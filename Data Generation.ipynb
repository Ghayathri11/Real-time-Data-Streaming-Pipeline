{
 "cells": [
  {
   "cell_type": "code",
   "execution_count": 1,
   "id": "2db102db",
   "metadata": {},
   "outputs": [
    {
     "name": "stdout",
     "output_type": "stream",
     "text": [
      "Collecting faker\n",
      "  Obtaining dependency information for faker from https://files.pythonhosted.org/packages/de/f4/1e0d8d5050671d5d72ec51494adf04723c73dc53642db292102b7954c617/Faker-19.12.0-py3-none-any.whl.metadata\n",
      "  Downloading Faker-19.12.0-py3-none-any.whl.metadata (15 kB)\n",
      "Requirement already satisfied: python-dateutil>=2.4 in d:\\anaconda\\lib\\site-packages (from faker) (2.8.2)\n",
      "Requirement already satisfied: six>=1.5 in d:\\anaconda\\lib\\site-packages (from python-dateutil>=2.4->faker) (1.16.0)\n",
      "Downloading Faker-19.12.0-py3-none-any.whl (1.7 MB)\n",
      "   ---------------------------------------- 0.0/1.7 MB ? eta -:--:--\n",
      "   - -------------------------------------- 0.1/1.7 MB 1.1 MB/s eta 0:00:02\n",
      "   ------ --------------------------------- 0.3/1.7 MB 2.8 MB/s eta 0:00:01\n",
      "   ----------- ---------------------------- 0.5/1.7 MB 3.4 MB/s eta 0:00:01\n",
      "   -------------- ------------------------- 0.6/1.7 MB 3.7 MB/s eta 0:00:01\n",
      "   -------------- ------------------------- 0.6/1.7 MB 3.7 MB/s eta 0:00:01\n",
      "   ------------------- -------------------- 0.8/1.7 MB 3.0 MB/s eta 0:00:01\n",
      "   ------------------------- -------------- 1.1/1.7 MB 3.3 MB/s eta 0:00:01\n",
      "   ------------------------------ --------- 1.3/1.7 MB 3.5 MB/s eta 0:00:01\n",
      "   ----------------------------------- ---- 1.5/1.7 MB 3.6 MB/s eta 0:00:01\n",
      "   ---------------------------------------- 1.7/1.7 MB 3.8 MB/s eta 0:00:00\n",
      "Installing collected packages: faker\n",
      "Successfully installed faker-19.12.0\n",
      "Note: you may need to restart the kernel to use updated packages.\n"
     ]
    }
   ],
   "source": [
    "pip install faker"
   ]
  },
  {
   "cell_type": "code",
   "execution_count": 2,
   "id": "fc10f962",
   "metadata": {},
   "outputs": [],
   "source": [
    "from faker import Faker\n",
    "import csv\n",
    "import random\n",
    "from decimal import Decimal\n",
    "from datetime import datetime\n",
    "\n",
    "RECORD_COUNT = 10000\n",
    "fake = Faker()"
   ]
  },
  {
   "cell_type": "code",
   "execution_count": 3,
   "id": "e92c4ebc",
   "metadata": {},
   "outputs": [],
   "source": [
    "def create_csv_file():\n",
    "    current_time = datetime.now().strftime(\"%Y%m%d%H%M%S\")\n",
    "    with open(f'FakeDataset/customer_{current_time}.csv', 'w', newline='') as csvfile:\n",
    "        fieldnames = [\"customer_id\",\"first_name\",\"last_name\",\"email\",\"street\",\n",
    "                      \"city\",\"state\",\"country\"\n",
    "                     ]\n",
    "        writer = csv.DictWriter(csvfile, fieldnames=fieldnames)\n",
    "\n",
    "        writer.writeheader()\n",
    "        for i in range(RECORD_COUNT):\n",
    "            #print(i)\n",
    "            writer.writerow(\n",
    "                {\n",
    "                    \"customer_id\": i,#fake.random_int(min=1, max=10000),\n",
    "                    'first_name': fake.first_name(),\n",
    "                    'last_name': fake.last_name(),\n",
    "                    'email': fake.email(),\n",
    "                    'street': fake.street_address(),\n",
    "                    'city': fake.city(),\n",
    "                    'state': fake.state(),\n",
    "                    'country': fake.country()\n",
    "                }\n",
    "            )"
   ]
  },
  {
   "cell_type": "code",
   "execution_count": 5,
   "id": "b2bfd3eb",
   "metadata": {},
   "outputs": [],
   "source": [
    "if __name__ == '__main__':\n",
    "    create_csv_file()"
   ]
  },
  {
   "cell_type": "code",
   "execution_count": null,
   "id": "5598bb5c",
   "metadata": {},
   "outputs": [],
   "source": []
  },
  {
   "cell_type": "code",
   "execution_count": null,
   "id": "85d46ab9",
   "metadata": {},
   "outputs": [],
   "source": []
  },
  {
   "cell_type": "code",
   "execution_count": null,
   "id": "0e154917",
   "metadata": {},
   "outputs": [],
   "source": []
  },
  {
   "cell_type": "code",
   "execution_count": null,
   "id": "1d14616b",
   "metadata": {},
   "outputs": [],
   "source": []
  },
  {
   "cell_type": "code",
   "execution_count": null,
   "id": "e8cb6282",
   "metadata": {},
   "outputs": [],
   "source": []
  },
  {
   "cell_type": "code",
   "execution_count": null,
   "id": "7ab564de",
   "metadata": {},
   "outputs": [],
   "source": []
  },
  {
   "cell_type": "code",
   "execution_count": null,
   "id": "c4ebf216",
   "metadata": {},
   "outputs": [],
   "source": []
  }
 ],
 "metadata": {
  "kernelspec": {
   "display_name": "Python 3 (ipykernel)",
   "language": "python",
   "name": "python3"
  },
  "language_info": {
   "codemirror_mode": {
    "name": "ipython",
    "version": 3
   },
   "file_extension": ".py",
   "mimetype": "text/x-python",
   "name": "python",
   "nbconvert_exporter": "python",
   "pygments_lexer": "ipython3",
   "version": "3.11.4"
  }
 },
 "nbformat": 4,
 "nbformat_minor": 5
}
